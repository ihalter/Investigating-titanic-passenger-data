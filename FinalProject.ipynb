{
 "cells": [
  {
   "cell_type": "markdown",
   "metadata": {
    "slideshow": {
     "slide_type": "slide"
    }
   },
   "source": [
    "# Investigate A Dataset - Final Project\n",
    "\n",
    "> February 28th, 2017\n",
    "\n",
    "> Ian Halter"
   ]
  },
  {
   "cell_type": "markdown",
   "metadata": {
    "slideshow": {
     "slide_type": "slide"
    }
   },
   "source": [
    "# Table of contents\n",
    "\n",
    "#### Section 1: Pick a Dataset\n",
    "#### Section 2: Get Organized\n",
    "#### Section 3: Analyze Your Data\n",
    "#### Section 4: Share Your Findings\n",
    "#### Section 5: Review\n",
    "\n",
    "> [**Project Rubric**](https://review.udacity.com/#!/projects/3176718735/rubric)\n",
    "\n",
    "### Submission Requirements\n",
    "1. Submit PDF findings document\n",
    "2. Submit IPython Notebook as code\n",
    "    Do not submit titanic dataset\n",
    "    \n",
    "Author's Notes:\n",
    "* Install Pandoc 1.19 before exporting to pdf or remove hyperlinks\n",
    "* All results here are not conclusions, observations.\n",
    "* All work here is my own, besides citations for code adapted from troubleshooting.\n",
    "* Done in Python 2 and Conda"
   ]
  },
  {
   "cell_type": "markdown",
   "metadata": {
    "slideshow": {
     "slide_type": "subslide"
    }
   },
   "source": [
    "# Section 1 - Pick a Dataset\n",
    "\n",
    "For this project I will be using the titanic Dataset."
   ]
  },
  {
   "cell_type": "markdown",
   "metadata": {
    "slideshow": {
     "slide_type": "slide"
    }
   },
   "source": [
    "# Section 2 - Get Organized\n",
    "\n",
    "To get organized I will start by \n",
    "1. Setting up the conda environment\n",
    "2. Create initial questions on the data\n",
    "3. Read the data in, evaluate it\n",
    "4. Create Final questions based on dataset values"
   ]
  },
  {
   "cell_type": "markdown",
   "metadata": {
    "slideshow": {
     "slide_type": "subslide"
    }
   },
   "source": [
    "## Setting up the conda environment"
   ]
  },
  {
   "cell_type": "code",
   "execution_count": 1,
   "metadata": {
    "collapsed": false,
    "slideshow": {
     "slide_type": "fragment"
    }
   },
   "outputs": [],
   "source": [
    "\n",
    "# Run Anaconda Environment necessary for this project \n",
    "'''\n",
    "This will install a Python 2 environment for this \n",
    "project with necessary libraries.\n",
    "conda install --name py2u_titanic python=2 matplotlib numpy pandas jupyter seaborn\n",
    "\n",
    "Update:\n",
    "Run > conda install pandoc\n",
    "'''\n",
    "\n",
    "import numpy as np\n",
    "import pandas as pd\n",
    "\n",
    "titanic = pd.read_csv('titanic-data.csv')"
   ]
  },
  {
   "cell_type": "markdown",
   "metadata": {
    "slideshow": {
     "slide_type": "subslide"
    }
   },
   "source": [
    "### Create initial questions of the data \n",
    "1. How successful was the \"Save the women and children\" plan? (portrayed heroically in the *almost* Best Picture film)\n",
    "2. did more wealthy people survive?\n",
    "\n"
   ]
  },
  {
   "cell_type": "markdown",
   "metadata": {},
   "source": [
    "## Read data in and evaluate it\n",
    "\n",
    "First I will apply some basic functions to the new titanic dataset to get an idea of the types of data I will be working with, the amount of data and overall distributions of it. This is a great practice for anyone recieving a new dataset."
   ]
  },
  {
   "cell_type": "code",
   "execution_count": 2,
   "metadata": {
    "collapsed": false,
    "slideshow": {
     "slide_type": "subslide"
    }
   },
   "outputs": [
    {
     "data": {
      "text/html": [
       "<div>\n",
       "<table border=\"1\" class=\"dataframe\">\n",
       "  <thead>\n",
       "    <tr style=\"text-align: right;\">\n",
       "      <th></th>\n",
       "      <th>PassengerId</th>\n",
       "      <th>Survived</th>\n",
       "      <th>Pclass</th>\n",
       "      <th>Name</th>\n",
       "      <th>Sex</th>\n",
       "      <th>Age</th>\n",
       "      <th>SibSp</th>\n",
       "      <th>Parch</th>\n",
       "      <th>Ticket</th>\n",
       "      <th>Fare</th>\n",
       "      <th>Cabin</th>\n",
       "      <th>Embarked</th>\n",
       "    </tr>\n",
       "  </thead>\n",
       "  <tbody>\n",
       "    <tr>\n",
       "      <th>0</th>\n",
       "      <td>1</td>\n",
       "      <td>0</td>\n",
       "      <td>3</td>\n",
       "      <td>Braund, Mr. Owen Harris</td>\n",
       "      <td>male</td>\n",
       "      <td>22.0</td>\n",
       "      <td>1</td>\n",
       "      <td>0</td>\n",
       "      <td>A/5 21171</td>\n",
       "      <td>7.2500</td>\n",
       "      <td>NaN</td>\n",
       "      <td>S</td>\n",
       "    </tr>\n",
       "    <tr>\n",
       "      <th>1</th>\n",
       "      <td>2</td>\n",
       "      <td>1</td>\n",
       "      <td>1</td>\n",
       "      <td>Cumings, Mrs. John Bradley (Florence Briggs Th...</td>\n",
       "      <td>female</td>\n",
       "      <td>38.0</td>\n",
       "      <td>1</td>\n",
       "      <td>0</td>\n",
       "      <td>PC 17599</td>\n",
       "      <td>71.2833</td>\n",
       "      <td>C85</td>\n",
       "      <td>C</td>\n",
       "    </tr>\n",
       "    <tr>\n",
       "      <th>2</th>\n",
       "      <td>3</td>\n",
       "      <td>1</td>\n",
       "      <td>3</td>\n",
       "      <td>Heikkinen, Miss. Laina</td>\n",
       "      <td>female</td>\n",
       "      <td>26.0</td>\n",
       "      <td>0</td>\n",
       "      <td>0</td>\n",
       "      <td>STON/O2. 3101282</td>\n",
       "      <td>7.9250</td>\n",
       "      <td>NaN</td>\n",
       "      <td>S</td>\n",
       "    </tr>\n",
       "    <tr>\n",
       "      <th>3</th>\n",
       "      <td>4</td>\n",
       "      <td>1</td>\n",
       "      <td>1</td>\n",
       "      <td>Futrelle, Mrs. Jacques Heath (Lily May Peel)</td>\n",
       "      <td>female</td>\n",
       "      <td>35.0</td>\n",
       "      <td>1</td>\n",
       "      <td>0</td>\n",
       "      <td>113803</td>\n",
       "      <td>53.1000</td>\n",
       "      <td>C123</td>\n",
       "      <td>S</td>\n",
       "    </tr>\n",
       "    <tr>\n",
       "      <th>4</th>\n",
       "      <td>5</td>\n",
       "      <td>0</td>\n",
       "      <td>3</td>\n",
       "      <td>Allen, Mr. William Henry</td>\n",
       "      <td>male</td>\n",
       "      <td>35.0</td>\n",
       "      <td>0</td>\n",
       "      <td>0</td>\n",
       "      <td>373450</td>\n",
       "      <td>8.0500</td>\n",
       "      <td>NaN</td>\n",
       "      <td>S</td>\n",
       "    </tr>\n",
       "  </tbody>\n",
       "</table>\n",
       "</div>"
      ],
      "text/plain": [
       "   PassengerId  Survived  Pclass  \\\n",
       "0            1         0       3   \n",
       "1            2         1       1   \n",
       "2            3         1       3   \n",
       "3            4         1       1   \n",
       "4            5         0       3   \n",
       "\n",
       "                                                Name     Sex   Age  SibSp  \\\n",
       "0                            Braund, Mr. Owen Harris    male  22.0      1   \n",
       "1  Cumings, Mrs. John Bradley (Florence Briggs Th...  female  38.0      1   \n",
       "2                             Heikkinen, Miss. Laina  female  26.0      0   \n",
       "3       Futrelle, Mrs. Jacques Heath (Lily May Peel)  female  35.0      1   \n",
       "4                           Allen, Mr. William Henry    male  35.0      0   \n",
       "\n",
       "   Parch            Ticket     Fare Cabin Embarked  \n",
       "0      0         A/5 21171   7.2500   NaN        S  \n",
       "1      0          PC 17599  71.2833   C85        C  \n",
       "2      0  STON/O2. 3101282   7.9250   NaN        S  \n",
       "3      0            113803  53.1000  C123        S  \n",
       "4      0            373450   8.0500   NaN        S  "
      ]
     },
     "execution_count": 2,
     "metadata": {},
     "output_type": "execute_result"
    }
   ],
   "source": [
    "# Check the data with .head() and .describe() functions\n",
    "\n",
    "titanic.head()"
   ]
  },
  {
   "cell_type": "code",
   "execution_count": 3,
   "metadata": {
    "collapsed": false,
    "slideshow": {
     "slide_type": "subslide"
    }
   },
   "outputs": [
    {
     "data": {
      "text/html": [
       "<div>\n",
       "<table border=\"1\" class=\"dataframe\">\n",
       "  <thead>\n",
       "    <tr style=\"text-align: right;\">\n",
       "      <th></th>\n",
       "      <th>PassengerId</th>\n",
       "      <th>Survived</th>\n",
       "      <th>Pclass</th>\n",
       "      <th>Age</th>\n",
       "      <th>SibSp</th>\n",
       "      <th>Parch</th>\n",
       "      <th>Fare</th>\n",
       "    </tr>\n",
       "  </thead>\n",
       "  <tbody>\n",
       "    <tr>\n",
       "      <th>count</th>\n",
       "      <td>891.000000</td>\n",
       "      <td>891.000000</td>\n",
       "      <td>891.000000</td>\n",
       "      <td>714.000000</td>\n",
       "      <td>891.000000</td>\n",
       "      <td>891.000000</td>\n",
       "      <td>891.000000</td>\n",
       "    </tr>\n",
       "    <tr>\n",
       "      <th>mean</th>\n",
       "      <td>446.000000</td>\n",
       "      <td>0.383838</td>\n",
       "      <td>2.308642</td>\n",
       "      <td>29.699118</td>\n",
       "      <td>0.523008</td>\n",
       "      <td>0.381594</td>\n",
       "      <td>32.204208</td>\n",
       "    </tr>\n",
       "    <tr>\n",
       "      <th>std</th>\n",
       "      <td>257.353842</td>\n",
       "      <td>0.486592</td>\n",
       "      <td>0.836071</td>\n",
       "      <td>14.526497</td>\n",
       "      <td>1.102743</td>\n",
       "      <td>0.806057</td>\n",
       "      <td>49.693429</td>\n",
       "    </tr>\n",
       "    <tr>\n",
       "      <th>min</th>\n",
       "      <td>1.000000</td>\n",
       "      <td>0.000000</td>\n",
       "      <td>1.000000</td>\n",
       "      <td>0.420000</td>\n",
       "      <td>0.000000</td>\n",
       "      <td>0.000000</td>\n",
       "      <td>0.000000</td>\n",
       "    </tr>\n",
       "    <tr>\n",
       "      <th>25%</th>\n",
       "      <td>223.500000</td>\n",
       "      <td>0.000000</td>\n",
       "      <td>2.000000</td>\n",
       "      <td>20.125000</td>\n",
       "      <td>0.000000</td>\n",
       "      <td>0.000000</td>\n",
       "      <td>7.910400</td>\n",
       "    </tr>\n",
       "    <tr>\n",
       "      <th>50%</th>\n",
       "      <td>446.000000</td>\n",
       "      <td>0.000000</td>\n",
       "      <td>3.000000</td>\n",
       "      <td>28.000000</td>\n",
       "      <td>0.000000</td>\n",
       "      <td>0.000000</td>\n",
       "      <td>14.454200</td>\n",
       "    </tr>\n",
       "    <tr>\n",
       "      <th>75%</th>\n",
       "      <td>668.500000</td>\n",
       "      <td>1.000000</td>\n",
       "      <td>3.000000</td>\n",
       "      <td>38.000000</td>\n",
       "      <td>1.000000</td>\n",
       "      <td>0.000000</td>\n",
       "      <td>31.000000</td>\n",
       "    </tr>\n",
       "    <tr>\n",
       "      <th>max</th>\n",
       "      <td>891.000000</td>\n",
       "      <td>1.000000</td>\n",
       "      <td>3.000000</td>\n",
       "      <td>80.000000</td>\n",
       "      <td>8.000000</td>\n",
       "      <td>6.000000</td>\n",
       "      <td>512.329200</td>\n",
       "    </tr>\n",
       "  </tbody>\n",
       "</table>\n",
       "</div>"
      ],
      "text/plain": [
       "       PassengerId    Survived      Pclass         Age       SibSp  \\\n",
       "count   891.000000  891.000000  891.000000  714.000000  891.000000   \n",
       "mean    446.000000    0.383838    2.308642   29.699118    0.523008   \n",
       "std     257.353842    0.486592    0.836071   14.526497    1.102743   \n",
       "min       1.000000    0.000000    1.000000    0.420000    0.000000   \n",
       "25%     223.500000    0.000000    2.000000   20.125000    0.000000   \n",
       "50%     446.000000    0.000000    3.000000   28.000000    0.000000   \n",
       "75%     668.500000    1.000000    3.000000   38.000000    1.000000   \n",
       "max     891.000000    1.000000    3.000000   80.000000    8.000000   \n",
       "\n",
       "            Parch        Fare  \n",
       "count  891.000000  891.000000  \n",
       "mean     0.381594   32.204208  \n",
       "std      0.806057   49.693429  \n",
       "min      0.000000    0.000000  \n",
       "25%      0.000000    7.910400  \n",
       "50%      0.000000   14.454200  \n",
       "75%      0.000000   31.000000  \n",
       "max      6.000000  512.329200  "
      ]
     },
     "execution_count": 3,
     "metadata": {},
     "output_type": "execute_result"
    }
   ],
   "source": [
    "# Check out the distribution of variables and summary statistics\n",
    "\n",
    "titanic.describe()"
   ]
  },
  {
   "cell_type": "markdown",
   "metadata": {
    "slideshow": {
     "slide_type": "subslide"
    }
   },
   "source": [
    "This preview of the data and it's summary statistics tells me a lot about the types of data.\n",
    "\n",
    "* Passenger Id - is a key value, or index\n",
    "* Survived - is a numeric boolean of 1 or 0\n",
    "* Age - most likely age in years\n",
    "* Cabin - isn't always populated, there are NaN values in the first few records\n",
    "\n",
    "[**Kaggle Website Source**](https://www.kaggle.com/c/titanic/data)\n",
    "The Kaggle Website provided by Udacity tells us more:\n",
    "\n",
    "* Pclass - a numerical lookup status, where 1 = Upper Class Person, 2 = Middle, 3 = Lower\n",
    "* SibSp - number of siblings/spouses on board (defined in detail on website)\n",
    "* Parch - number of parents/children on board (defined in detail on website)\n",
    "* Fare - Price in 1912 Dollars for the ticket\n",
    "\n",
    "But there are also a lot of other columns on the Kaggle site, appearing in .head() but not in .describe(). I think these values are here, but that the .describe() method can't do math on them because they are non numeric. I'll confirm that in the next block."
   ]
  },
  {
   "cell_type": "code",
   "execution_count": 4,
   "metadata": {
    "collapsed": false,
    "slideshow": {
     "slide_type": "subslide"
    }
   },
   "outputs": [
    {
     "data": {
      "text/plain": [
       "array(['PassengerId', 'Survived', 'Pclass', 'Name', 'Sex', 'Age', 'SibSp',\n",
       "       'Parch', 'Ticket', 'Fare', 'Cabin', 'Embarked'], dtype=object)"
      ]
     },
     "execution_count": 4,
     "metadata": {},
     "output_type": "execute_result"
    }
   ],
   "source": [
    "titanic.columns.values"
   ]
  },
  {
   "cell_type": "markdown",
   "metadata": {
    "slideshow": {
     "slide_type": "subslide"
    }
   },
   "source": [
    "Clear here that Sex, Ticket, Cabin and Embarked are included. We can probably use all fields besides Ticket to try and create better questions.\n",
    "\n",
    "These are non-numeric fields and they are present. "
   ]
  },
  {
   "cell_type": "markdown",
   "metadata": {
    "slideshow": {
     "slide_type": "slide"
    }
   },
   "source": [
    "## Create final dataset questions based on data values\n",
    "~~. How successful was the \"Save the women and children\" plan? (portrayed heroically in the *almost* Best Picture film)~~\n",
    "1. *Revised* Were more women and children rescued than men or single persons? *Since we can only measure success with \"Survived\", there isn't a need to frame morbidly as 'successful' :)*\n",
    "2. \"My life is worth more than yours!\" - was there indication of a wealth bias towards survival rate? Was this reflected in the children and women boarding? (Did the wealthy have as many kids as the poor?)\n",
    "3. \"Too Old to Ride this flotsom\" - Did people implicitly come upon an age cutoff for survival?\n",
    "4. Sadness. How many parents with kids missed the boat?\n",
    "\n",
    "For the sake of project requirements I will be comparing the dependent variable, survival, across multiple independent variables: age, sex, familyname, wealth."
   ]
  },
  {
   "cell_type": "markdown",
   "metadata": {
    "slideshow": {
     "slide_type": "slide"
    }
   },
   "source": [
    "# Section 3 - Analyze your data\n",
    "\n",
    "Here I will analyze the dataset and attempt to clean it, just like the lesson taught in removing test udacity accounts and users that didn't complete more than a week of the program.\n",
    "\n",
    "After I will analyze the data based on the questions in the order they were presented."
   ]
  },
  {
   "cell_type": "code",
   "execution_count": 5,
   "metadata": {
    "collapsed": true,
    "slideshow": {
     "slide_type": "fragment"
    }
   },
   "outputs": [],
   "source": [
    "# Install libraries to do exploratory graphing later on\n",
    "\n",
    "%matplotlib inline\n",
    "\n",
    "import matplotlib\n",
    "import matplotlib.pyplot as plt\n",
    "import seaborn as sns  #helps make graphs same "
   ]
  },
  {
   "cell_type": "code",
   "execution_count": 6,
   "metadata": {
    "collapsed": false,
    "slideshow": {
     "slide_type": "subslide"
    }
   },
   "outputs": [
    {
     "data": {
      "text/plain": [
       "PassengerId      0\n",
       "Survived         0\n",
       "Pclass           0\n",
       "Name             0\n",
       "Sex              0\n",
       "Age            177\n",
       "SibSp            0\n",
       "Parch            0\n",
       "Ticket           0\n",
       "Fare             0\n",
       "Cabin          687\n",
       "Embarked         2\n",
       "dtype: int64"
      ]
     },
     "execution_count": 6,
     "metadata": {},
     "output_type": "execute_result"
    }
   ],
   "source": [
    "# A lot of initial plots weren't working, so I decided to clean the data of NaN's\n",
    "# decided to see how many were in each column\n",
    "titanic.isnull().sum()\n",
    "\n",
    "#http://stackoverflow.com/questions/26266362/how-to-count-the-nan-values-in-the-column-in-panda-data-frame"
   ]
  },
  {
   "cell_type": "markdown",
   "metadata": {
    "slideshow": {
     "slide_type": "subslide"
    }
   },
   "source": [
    "I initially had trouble plotting and wrote some poor code to find all of the NaN values. It was only after going online could I find a more aesthetic and readable solution.\n",
    "\n",
    "It is clear Age, Cabin and Embarked contain NaN values, and therefore those need to be cleaned and saved as a separate dataset for holistic analysis. I'm going to simply remove the Cabin column, because if I removed all records that had Cabin=nan I would have 891 - 687 (or 204) values, which doesn't represent the whole dataset.\n",
    "\n",
    "> Note: Operations such as these have implications. I'm hoping (and assuming) that the ages removed aren't all old people or young people! This could skew my results down the road."
   ]
  },
  {
   "cell_type": "code",
   "execution_count": 7,
   "metadata": {
    "collapsed": false,
    "slideshow": {
     "slide_type": "subslide"
    }
   },
   "outputs": [
    {
     "name": "stdout",
     "output_type": "stream",
     "text": [
      "   PassengerId  Survived  Pclass  \\\n",
      "0            1         0       3   \n",
      "1            2         1       1   \n",
      "2            3         1       3   \n",
      "3            4         1       1   \n",
      "4            5         0       3   \n",
      "\n",
      "                                                Name     Sex   Age  SibSp  \\\n",
      "0                            Braund, Mr. Owen Harris    male  22.0      1   \n",
      "1  Cumings, Mrs. John Bradley (Florence Briggs Th...  female  38.0      1   \n",
      "2                             Heikkinen, Miss. Laina  female  26.0      0   \n",
      "3       Futrelle, Mrs. Jacques Heath (Lily May Peel)  female  35.0      1   \n",
      "4                           Allen, Mr. William Henry    male  35.0      0   \n",
      "\n",
      "   Parch            Ticket     Fare Embarked  \n",
      "0      0         A/5 21171   7.2500        S  \n",
      "1      0          PC 17599  71.2833        C  \n",
      "2      0  STON/O2. 3101282   7.9250        S  \n",
      "3      0            113803  53.1000        S  \n",
      "4      0            373450   8.0500        S  \n"
     ]
    }
   ],
   "source": [
    "# Let's remove rows where Age and Embarked are nan and remove Cabin column\n",
    "# the nan value is a value in the NumPy library, this was the only way I could clean the data set successfully\n",
    "\n",
    "titanic_clean = titanic[titanic['Age'] != np.nan]\n",
    "titanic_clean = titanic_clean[titanic['Embarked'] != np.nan]\n",
    "titanic_clean = titanic_clean.drop('Cabin', axis=1)\n",
    "    #inplace=True keeps data frame\n",
    "print titanic_clean.head()"
   ]
  },
  {
   "cell_type": "code",
   "execution_count": 8,
   "metadata": {
    "collapsed": false,
    "slideshow": {
     "slide_type": "fragment"
    }
   },
   "outputs": [
    {
     "name": "stdout",
     "output_type": "stream",
     "text": [
      "male\n",
      "1\n"
     ]
    }
   ],
   "source": [
    "def make_sex_binary(value):\n",
    "    ## Takes in one column containing 'male' or 'female' data points \n",
    "    if str(value).lower() == 'male':\n",
    "        value = 1\n",
    "    elif str(value).lower() == 'female':\n",
    "        value = 0\n",
    "    else:\n",
    "        value\n",
    "    return value\n",
    "\n",
    "# test\n",
    "print titanic.iloc[0]['Sex']\n",
    "print titanic.iloc[0].apply(make_sex_binary)['Sex']"
   ]
  },
  {
   "cell_type": "code",
   "execution_count": 9,
   "metadata": {
    "collapsed": false,
    "slideshow": {
     "slide_type": "subslide"
    }
   },
   "outputs": [
    {
     "name": "stdout",
     "output_type": "stream",
     "text": [
      "   PassengerId  Survived  Pclass  \\\n",
      "0            1         0       3   \n",
      "1            2         1       1   \n",
      "2            3         1       3   \n",
      "3            4         1       1   \n",
      "4            5         0       3   \n",
      "\n",
      "                                                Name  Sex   Age  SibSp  Parch  \\\n",
      "0                            Braund, Mr. Owen Harris    1  22.0      1      0   \n",
      "1  Cumings, Mrs. John Bradley (Florence Briggs Th...    0  38.0      1      0   \n",
      "2                             Heikkinen, Miss. Laina    0  26.0      0      0   \n",
      "3       Futrelle, Mrs. Jacques Heath (Lily May Peel)    0  35.0      1      0   \n",
      "4                           Allen, Mr. William Henry    1  35.0      0      0   \n",
      "\n",
      "             Ticket     Fare Embarked  \n",
      "0         A/5 21171   7.2500        S  \n",
      "1          PC 17599  71.2833        C  \n",
      "2  STON/O2. 3101282   7.9250        S  \n",
      "3            113803  53.1000        S  \n",
      "4            373450   8.0500        S  \n"
     ]
    }
   ],
   "source": [
    "titanic_clean['Sex'] = titanic_clean['Sex'].apply(make_sex_binary)\n",
    "\n",
    "print titanic_clean.head()"
   ]
  },
  {
   "cell_type": "markdown",
   "metadata": {
    "slideshow": {
     "slide_type": "fragment"
    }
   },
   "source": [
    "Now that our dataset is initially cleaned, let's start tackling some questions."
   ]
  },
  {
   "cell_type": "markdown",
   "metadata": {
    "slideshow": {
     "slide_type": "slide"
    }
   },
   "source": [
    "## 1. Were more women and children rescued than men or single persons?\n",
    "\n",
    "We can look at success rates using vector operations on the panda data frame: titanic_clean. Or we could plot them.\n",
    "I'm going to create a function to output survival based on the women, children, men and single people criteria. Then compare the survival rates against these to. My dependent variables are a combination of age and gender, while my independent is this survival rate."
   ]
  },
  {
   "cell_type": "code",
   "execution_count": 10,
   "metadata": {
    "collapsed": true,
    "slideshow": {
     "slide_type": "fragment"
    }
   },
   "outputs": [],
   "source": [
    "def success_rate(column):\n",
    "    return str(float(column.sum()) / \n",
    "               float(column.count())\n",
    "                ) + ' %'"
   ]
  },
  {
   "cell_type": "code",
   "execution_count": 11,
   "metadata": {
    "collapsed": false,
    "slideshow": {
     "slide_type": "fragment"
    }
   },
   "outputs": [
    {
     "name": "stdout",
     "output_type": "stream",
     "text": [
      "0.555555555556 % of Children survived\n",
      "0.771844660194 % of Women survived\n",
      "0.347648261759 % of Single Adults survived\n",
      "0.177215189873 % of Men survived\n"
     ]
    }
   ],
   "source": [
    "# Let's create the children, women, men and single adults subsets with vector operations.\n",
    "\n",
    "children = titanic_clean[titanic_clean['Age'] < 18]\n",
    "children = children[children['Parch'] > 0]\n",
    "\n",
    "women = titanic_clean[titanic_clean['Age'] >= 18]\n",
    "women = women[women['Sex'] == 0]\n",
    "\n",
    "single_adults = titanic_clean[titanic_clean['Age'] >= 18]\n",
    "single_adults = single_adults[single_adults['Parch'] == 0]\n",
    "\n",
    "men = titanic_clean[titanic_clean['Age'] >= 18]\n",
    "men = men[men['Sex'] > 0]\n",
    "\n",
    "# Now we can compare the success rates\n",
    "\n",
    "print success_rate(children['Survived'])      + ' of Children survived'\n",
    "print success_rate(women['Survived'])         + ' of Women survived'\n",
    "print success_rate(single_adults['Survived']) + ' of Single Adults survived'\n",
    "print success_rate(men['Survived'])           + ' of Men survived'\n",
    "\n",
    "#apply function was giving errors I couldn't understand.\n",
    "# children['Survived'].apply(success_rate)\n",
    "#AttributeError: 'long' object has no attribute 'sum'\n"
   ]
  },
  {
   "cell_type": "markdown",
   "metadata": {
    "slideshow": {
     "slide_type": "subslide"
    }
   },
   "source": [
    "Cool, so we can see that the number of women and children were onboard survived more than the men! However single people still had more success than men in general.\n",
    "\n",
    "I expect there to be more single men than women, based on high school history class and my stereotype of post US industrial revolution family dynamic. So I would therefore expect the single surival rate to be closer to male survival rate. This is kind of interesting....the Kaggle website does make mention of mistresses.\n",
    "\n",
    "Were there even amounts of men/women? How many children were there? Survival rate looks more interesting compared the magnitude of people on board. Let's compare how many of each (men, women, children, singles) were on board."
   ]
  },
  {
   "cell_type": "code",
   "execution_count": 12,
   "metadata": {
    "collapsed": false,
    "slideshow": {
     "slide_type": "fragment"
    }
   },
   "outputs": [
    {
     "name": "stdout",
     "output_type": "stream",
     "text": [
      "Total Children: 81\n",
      "Total Women: 206\n",
      "Total Single Adults: 489\n",
      "Total Men: 395\n",
      "Overall Survival rate: 0.383838383838 %\n"
     ]
    }
   ],
   "source": [
    "print 'Total Children: ' + str(children['PassengerId'].count())\n",
    "print 'Total Women: ' + str(women['PassengerId'].count())\n",
    "print 'Total Single Adults: ' + str(single_adults['PassengerId'].count())\n",
    "print 'Total Men: ' + str(men['PassengerId'].count())\n",
    "\n",
    "#print 'Overall Survival rate: %04.3f' % (titanic_clean['Survived'].sum()/float(titanic_clean['Survived'].count()))\n",
    "print 'Overall Survival rate: '+ success_rate(titanic['Survived'])"
   ]
  },
  {
   "cell_type": "markdown",
   "metadata": {
    "slideshow": {
     "slide_type": "fragment"
    }
   },
   "source": [
    "I'd rather view these results in print statements that compare the data in one line, then flip back and forth."
   ]
  },
  {
   "cell_type": "code",
   "execution_count": 13,
   "metadata": {
    "collapsed": false,
    "slideshow": {
     "slide_type": "subslide"
    }
   },
   "outputs": [
    {
     "name": "stdout",
     "output_type": "stream",
     "text": [
      "0.555555555556 % of 81 Children survived\n",
      "0.771844660194 % of 206 Women survived\n",
      "0.347648261759 % of 489 Singles survived\n",
      "0.177215189873 % of 395 Men survived\n",
      "Overall Survival rate: 0.384\n"
     ]
    }
   ],
   "source": [
    "print '%s of %s Children survived' % (str(success_rate(children['Survived'])),str(children['PassengerId'].count()))\n",
    "print '%s of %s Women survived'    % (str(success_rate(women['Survived'])),str(women['PassengerId'].count()))\n",
    "print '%s of %s Singles survived'  % (str(success_rate(single_adults['Survived'])),str(single_adults['PassengerId'].count()))\n",
    "print '%s of %s Men survived'      % (str(success_rate(men['Survived'])),str(men['PassengerId'].count()))\n",
    "\n",
    "print 'Overall Survival rate: %04.3f' % (titanic_clean['Survived'].sum()/float(titanic_clean['Survived'].count()))"
   ]
  },
  {
   "cell_type": "markdown",
   "metadata": {
    "slideshow": {
     "slide_type": "subslide"
    }
   },
   "source": [
    "It's clear here that there was a priority on children women, of the ones that were there. It looks like men and and singles died the most, but why that is the case warrants more research on the type of people aboard the Titanic. We will investigate in question 2."
   ]
  },
  {
   "cell_type": "markdown",
   "metadata": {},
   "source": [
    "## 2. \"My life is worth more than yours!\" - was there indication of a wealth bias towards survival rate? Was this reflected in the children and women boarding? (Did the wealthy have as many kids as the poor survive?)"
   ]
  },
  {
   "cell_type": "markdown",
   "metadata": {},
   "source": [
    "The best way, in my opinion, to view this data is to view survival rates by wealth class (1 - Upper, 2 - Middle, 3 - Lower). I liked the .barh() plot because you can see the differences and analyze the data visually, rather than applying vector operations."
   ]
  },
  {
   "cell_type": "code",
   "execution_count": 14,
   "metadata": {
    "collapsed": false
   },
   "outputs": [
    {
     "data": {
      "text/plain": [
       "<matplotlib.axes._subplots.AxesSubplot at 0x93d7ef0>"
      ]
     },
     "execution_count": 14,
     "metadata": {},
     "output_type": "execute_result"
    },
    {
     "data": {
      "image/png": "[encoded data removed]",
      "text/plain": [
       "<matplotlib.figure.Figure at 0x9370e10>"
      ]
     },
     "metadata": {},
     "output_type": "display_data"
    }
   ],
   "source": [
    "\n",
    "wealth_by_survivors = titanic_clean.groupby('Pclass').sum()['Survived']\n",
    "\n",
    "wealth_by_survivors.index.values\n",
    "wealth_by_survivors.index = ['Upper Class', 'Middle Class', 'Lower Class']\n",
    "wealth_by_survivors.columns = ['Number of Survivors']\n",
    "\n",
    "wealth_by_survivors.plot.barh(title = 'Number of Survivors by Income Class', color = 'g')\n"
   ]
  },
  {
   "cell_type": "code",
   "execution_count": 15,
   "metadata": {
    "collapsed": false
   },
   "outputs": [
    {
     "data": {
      "text/plain": [
       "<matplotlib.axes._subplots.AxesSubplot at 0x93e4f28>"
      ]
     },
     "execution_count": 15,
     "metadata": {},
     "output_type": "execute_result"
    },
    {
     "data": {
      "image/png": "[encoded data removed]",
      "text/plain": [
       "<matplotlib.figure.Figure at 0x92212b0>"
      ]
     },
     "metadata": {},
     "output_type": "display_data"
    }
   ],
   "source": [
    "wealth_by_passengers = titanic_clean.groupby('Pclass').count()['PassengerId']\n",
    "\n",
    "wealth_by_passengers.index = ['Upper Class', 'Middle Class', 'Lower Class']\n",
    "wealth_by_passengers.columns = ['Number of Passengers']\n",
    "\n",
    "wealth_by_passengers.plot.barh(title = 'Number of Passengers by Income Class')"
   ]
  },
  {
   "cell_type": "markdown",
   "metadata": {},
   "source": [
    "Most important to note here is the sheer increase in number of lower class people in the cleaned dataset of passengers, compared the number of survivors. The lower class clearly survived the least."
   ]
  },
  {
   "cell_type": "code",
   "execution_count": 16,
   "metadata": {
    "collapsed": false
   },
   "outputs": [
    {
     "data": {
      "text/plain": [
       "<matplotlib.text.Text at 0x9736f60>"
      ]
     },
     "execution_count": 16,
     "metadata": {},
     "output_type": "execute_result"
    },
    {
     "data": {
      "image/png": "[encoded data removed]",
      "text/plain": [
       "<matplotlib.figure.Figure at 0x95a9dd8>"
      ]
     },
     "metadata": {},
     "output_type": "display_data"
    }
   ],
   "source": [
    "ax = wealth_by_passengers.plot.barh(color = 'b')\n",
    "\n",
    "wealth_by_survivors.plot.barh(color = 'g', ax = ax, legend = True, xlim = (0,650)).set_xlabel('Number of Passengers')\n",
    "\n",
    "# The length of the blue indicates the portion of income class that didn't survive.\n",
    "\n",
    "# Udacity review recommended unstack() for bar plots, and set_ylabel and set_xlabel methods for clarity\n",
    "    # can't unstack subplot (ax = ax), but good to know\n",
    "# http://pandas.pydata.org/pandas-docs/stable/generated/pandas.DataFrame.plot.html"
   ]
  },
  {
   "cell_type": "markdown",
   "metadata": {},
   "source": [
    "Cool! By passing a multi-color string and creating a separate axes object, we can clearly show how the Lower class had a much lower survival rate than the upper. Visually this does point to a survival bias.\n",
    "\n",
    "We can try and view this even by another dimension: Age."
   ]
  },
  {
   "cell_type": "code",
   "execution_count": 17,
   "metadata": {
    "collapsed": false
   },
   "outputs": [
    {
     "data": {
      "text/plain": [
       "<matplotlib.text.Text at 0xb393b38>"
      ]
     },
     "execution_count": 17,
     "metadata": {},
     "output_type": "execute_result"
    },
    {
     "data": {
      "image/png": "[encoded data removed]",
      "text/plain": [
       "<matplotlib.figure.Figure at 0xb08e710>"
      ]
     },
     "metadata": {},
     "output_type": "display_data"
    }
   ],
   "source": [
    "ax = titanic_clean.plot(kind = 'scatter', x = 'Age', y = 'PassengerId', c = 'Pclass',\n",
    "                   s = titanic_clean['Pclass']*30, alpha = 0.9, \n",
    "                   title = 'Age vs PassengerId, colored by Pclass',\n",
    "                   cmap=plt.cm.get_cmap('winter', 3), sharex = False)\n",
    "ax.xaxis.set_visible(True)\n",
    "ax.set_xlabel('Age')\n",
    "ax.set_ylabel('PassengerId')\n",
    "\n",
    "#http://matplotlib.org/api/pyplot_api.html#matplotlib.pyplot.scatter\n",
    "# s = ... assigns a large size of the dot based on class\n",
    "# alpha parameter allows transparency of data points for overlap\n",
    "\n",
    "# http://matplotlib.org/api/cm_api.html\n",
    "# http://matplotlib.org/examples/color/colormaps_reference.html, will be using \"winter\" as it has no white values\n",
    "\n",
    "# colormap solution adapted from @jakevdp on Github CategoricalCMAP.ipynb can remove\n",
    "    # the unnecessary 0.25 tick marks on the color bar as needed\n",
    "    \n",
    "# for those having issues plotting x labels with plot(kind ='scatter'....), this is a result of a pandas bug\n",
    "# https://github.com/ipython/ipython/issues/8653\n",
    "    # set sharex = False as an argument, should resolve problem"
   ]
  },
  {
   "cell_type": "markdown",
   "metadata": {
    "slideshow": {
     "slide_type": "subslide"
    }
   },
   "source": [
    "Both plots communicate there were many low class passengers onboard, even though our data doesn't include [all passengers.](http://www.titanic-facts.com/passengers-on-the-titanic.html) \n",
    "\n",
    "I researched and nearly 2/3 of the passengers were crew members or \"third class ticket\". I am making a large, but logical assumption that people who purchased a 3rd class ticket fell either barely into the \"Middle Class\" income bracket and by default, at least the \"Lower Class\" income bracket. Granted a crew can involve a wealthy engineer or captain, it mostly consists of poorer deck hands, cooks and waiters.\n",
    "\n",
    "Both plots tell us the older were wealthier, and the wealthier you were, the higher your success rate. This isn't statistically factual, but visually indicative.\n",
    "\n",
    "*For more information*:\n",
    "\n",
    "[**This site**](http://www.titanic-facts.com/passengers-on-the-titanic.html) is a little outdated, however it tells us there weren't many middle class passengers at all, based on number of \"2nd class\" and \"3rd class\" ticket purchases. [**This site**](http://sociologyinfocus.com/2012/04/a-nightmare-of-titanic-proportions-social-class-a-ticket-to-ride/) seems to confirm it as well, along with the notion that more upper class survived."
   ]
  },
  {
   "cell_type": "markdown",
   "metadata": {
    "slideshow": {
     "slide_type": "slide"
    }
   },
   "source": [
    "## 3. \"Too Old to Ride this flotsom\" - Did people implicitly come upon an age cutoff?"
   ]
  },
  {
   "cell_type": "markdown",
   "metadata": {},
   "source": [
    "For this question we'll be looking at ages and survival rates, to determine if we can't see a trend. From the previous question older people seemed to be richer and have survived more. However if they weren't rich, did the elderly stand the same chances of success?"
   ]
  },
  {
   "cell_type": "code",
   "execution_count": 18,
   "metadata": {
    "collapsed": false,
    "slideshow": {
     "slide_type": "subslide"
    }
   },
   "outputs": [
    {
     "data": {
      "text/plain": [
       "<matplotlib.axes._subplots.AxesSubplot at 0xb6c9a58>"
      ]
     },
     "execution_count": 18,
     "metadata": {},
     "output_type": "execute_result"
    },
    {
     "data": {
      "image/png": "[encoded data removed]",
      "text/plain": [
       "<matplotlib.figure.Figure at 0xb338e48>"
      ]
     },
     "metadata": {},
     "output_type": "display_data"
    }
   ],
   "source": [
    "# Sort the dataset by age, then plot against survival\n",
    "titanic_clean.plot(kind = 'scatter', x = 'Age', y = 'PassengerId')"
   ]
  },
  {
   "cell_type": "markdown",
   "metadata": {},
   "source": [
    "This is the definition of an inconclusive graph. There aren't many continuous variables of which to compare ages to.\n",
    "\n",
    "*Note - with all of these classification variables, this dataset is probably ripe for randomForest decision trees. Pun intended.*"
   ]
  },
  {
   "cell_type": "code",
   "execution_count": 19,
   "metadata": {
    "collapsed": false
   },
   "outputs": [
    {
     "data": {
      "text/plain": [
       "<matplotlib.axes._subplots.AxesSubplot at 0xb6a4080>"
      ]
     },
     "execution_count": 19,
     "metadata": {},
     "output_type": "execute_result"
    },
    {
     "data": {
      "image/png": "[encoded data removed]",
      "text/plain": [
       "<matplotlib.figure.Figure at 0xbb55048>"
      ]
     },
     "metadata": {},
     "output_type": "display_data"
    }
   ],
   "source": [
    "# http://pandas.pydata.org/pandas-docs/version/0.15.0/visualization.html#scatter-plot\n",
    "# Super imposing values could reveal a neat type of relationship.\n",
    "deaths = titanic_clean[titanic_clean['Survived'] == 0]\n",
    "survivals = titanic_clean[titanic_clean['Survived'] == 1]\n",
    "\n",
    "# create first scatter plot as an axes object\n",
    "ax = deaths.plot(kind='scatter', x='PassengerId', y='Age',\n",
    "                      color='r', label='Deaths')\n",
    "\n",
    "# create second scatter plot to display output, including first scatterplot\n",
    "survivals.plot(kind='scatter', x='PassengerId', y='Age',\n",
    "               color='g', label='Survivals', ax=ax)\n",
    "                 \n",
    "# Living is green, death is red"
   ]
  },
  {
   "cell_type": "markdown",
   "metadata": {},
   "source": [
    "From the visual, we can't really tell if age had any factor in who was selected to die. We can compare the averages of survival and possible correlations with the hindsight that this inspcation of the data **does not prove statistically a causal relationship, i.e. older were conclusively more likely to die**"
   ]
  },
  {
   "cell_type": "code",
   "execution_count": 20,
   "metadata": {
    "collapsed": false
   },
   "outputs": [
    {
     "name": "stdout",
     "output_type": "stream",
     "text": [
      "30.626\n",
      "28.344\n"
     ]
    },
    {
     "data": {
      "text/html": [
       "<div>\n",
       "<table border=\"1\" class=\"dataframe\">\n",
       "  <thead>\n",
       "    <tr style=\"text-align: right;\">\n",
       "      <th></th>\n",
       "      <th>PassengerId</th>\n",
       "      <th>Survived</th>\n",
       "      <th>Pclass</th>\n",
       "      <th>Sex</th>\n",
       "      <th>Age</th>\n",
       "      <th>SibSp</th>\n",
       "      <th>Parch</th>\n",
       "      <th>Fare</th>\n",
       "    </tr>\n",
       "  </thead>\n",
       "  <tbody>\n",
       "    <tr>\n",
       "      <th>PassengerId</th>\n",
       "      <td>1.000000</td>\n",
       "      <td>-0.005007</td>\n",
       "      <td>-0.035144</td>\n",
       "      <td>0.042939</td>\n",
       "      <td>0.036847</td>\n",
       "      <td>-0.057527</td>\n",
       "      <td>-0.001652</td>\n",
       "      <td>0.012658</td>\n",
       "    </tr>\n",
       "    <tr>\n",
       "      <th>Survived</th>\n",
       "      <td>-0.005007</td>\n",
       "      <td>1.000000</td>\n",
       "      <td>-0.338481</td>\n",
       "      <td>-0.543351</td>\n",
       "      <td>-0.077221</td>\n",
       "      <td>-0.035322</td>\n",
       "      <td>0.081629</td>\n",
       "      <td>0.257307</td>\n",
       "    </tr>\n",
       "    <tr>\n",
       "      <th>Pclass</th>\n",
       "      <td>-0.035144</td>\n",
       "      <td>-0.338481</td>\n",
       "      <td>1.000000</td>\n",
       "      <td>0.131900</td>\n",
       "      <td>-0.369226</td>\n",
       "      <td>0.083081</td>\n",
       "      <td>0.018443</td>\n",
       "      <td>-0.549500</td>\n",
       "    </tr>\n",
       "    <tr>\n",
       "      <th>Sex</th>\n",
       "      <td>0.042939</td>\n",
       "      <td>-0.543351</td>\n",
       "      <td>0.131900</td>\n",
       "      <td>1.000000</td>\n",
       "      <td>0.093254</td>\n",
       "      <td>-0.114631</td>\n",
       "      <td>-0.245489</td>\n",
       "      <td>-0.182333</td>\n",
       "    </tr>\n",
       "    <tr>\n",
       "      <th>Age</th>\n",
       "      <td>0.036847</td>\n",
       "      <td>-0.077221</td>\n",
       "      <td>-0.369226</td>\n",
       "      <td>0.093254</td>\n",
       "      <td>1.000000</td>\n",
       "      <td>-0.308247</td>\n",
       "      <td>-0.189119</td>\n",
       "      <td>0.096067</td>\n",
       "    </tr>\n",
       "    <tr>\n",
       "      <th>SibSp</th>\n",
       "      <td>-0.057527</td>\n",
       "      <td>-0.035322</td>\n",
       "      <td>0.083081</td>\n",
       "      <td>-0.114631</td>\n",
       "      <td>-0.308247</td>\n",
       "      <td>1.000000</td>\n",
       "      <td>0.414838</td>\n",
       "      <td>0.159651</td>\n",
       "    </tr>\n",
       "    <tr>\n",
       "      <th>Parch</th>\n",
       "      <td>-0.001652</td>\n",
       "      <td>0.081629</td>\n",
       "      <td>0.018443</td>\n",
       "      <td>-0.245489</td>\n",
       "      <td>-0.189119</td>\n",
       "      <td>0.414838</td>\n",
       "      <td>1.000000</td>\n",
       "      <td>0.216225</td>\n",
       "    </tr>\n",
       "    <tr>\n",
       "      <th>Fare</th>\n",
       "      <td>0.012658</td>\n",
       "      <td>0.257307</td>\n",
       "      <td>-0.549500</td>\n",
       "      <td>-0.182333</td>\n",
       "      <td>0.096067</td>\n",
       "      <td>0.159651</td>\n",
       "      <td>0.216225</td>\n",
       "      <td>1.000000</td>\n",
       "    </tr>\n",
       "  </tbody>\n",
       "</table>\n",
       "</div>"
      ],
      "text/plain": [
       "             PassengerId  Survived    Pclass       Sex       Age     SibSp  \\\n",
       "PassengerId     1.000000 -0.005007 -0.035144  0.042939  0.036847 -0.057527   \n",
       "Survived       -0.005007  1.000000 -0.338481 -0.543351 -0.077221 -0.035322   \n",
       "Pclass         -0.035144 -0.338481  1.000000  0.131900 -0.369226  0.083081   \n",
       "Sex             0.042939 -0.543351  0.131900  1.000000  0.093254 -0.114631   \n",
       "Age             0.036847 -0.077221 -0.369226  0.093254  1.000000 -0.308247   \n",
       "SibSp          -0.057527 -0.035322  0.083081 -0.114631 -0.308247  1.000000   \n",
       "Parch          -0.001652  0.081629  0.018443 -0.245489 -0.189119  0.414838   \n",
       "Fare            0.012658  0.257307 -0.549500 -0.182333  0.096067  0.159651   \n",
       "\n",
       "                Parch      Fare  \n",
       "PassengerId -0.001652  0.012658  \n",
       "Survived     0.081629  0.257307  \n",
       "Pclass       0.018443 -0.549500  \n",
       "Sex         -0.245489 -0.182333  \n",
       "Age         -0.189119  0.096067  \n",
       "SibSp        0.414838  0.159651  \n",
       "Parch        1.000000  0.216225  \n",
       "Fare         0.216225  1.000000  "
      ]
     },
     "execution_count": 20,
     "metadata": {},
     "output_type": "execute_result"
    }
   ],
   "source": [
    "print '%05.3f' % float(deaths['Age'].mean())\n",
    "print '%05.3f' % float(survivals['Age'].mean())\n",
    "\n",
    "titanic_clean.corr(method = 'pearson')\n",
    "\n",
    "#http://pandas.pydata.org/pandas-docs/stable/generated/pandas.DataFrame.corr.html"
   ]
  },
  {
   "cell_type": "markdown",
   "metadata": {},
   "source": [
    "The correlation coefficients are not very different from zero and average ages are relatively close, so it's difficult to say whether or not people implicitly created an age cutoff for dying. I also have to state here that the \"Pearson's\" test assumes a normal distribution of values which I haven't even looked at. All in all, there clearly are reasons unknown or known that were more important than age when it came to deciding who would populate the lifeboats.\n",
    "\n",
    "There is a statistical test that generates a value for categorical variables, called the chi-square test, using the same Pearson's assumption of normality. It takes the difference between an observed value (like Survival 1 or 0) and it's theoretical value based on a normal distribution (any number generated from a normal distribution with a mean of survival.mean() and standard deviation of survival.sd()). \n",
    "\n",
    "Categorical data is tricky - because it's not a continuous variable, so these chisquare tests are iffy. What we're looking for is whether or not the passengers of this dataset had factors (age, pclass, gender) that were statistically significant. Again, take this with a grain of salt because we are assuming A LOT about the distributions of data in this data set. For a basic intro, visit https://en.wikipedia.org/wiki/Chi-squared_test\n",
    "\n",
    "We'll use the scipy library chisquare test, as provided by a Udacity reviewer.\n",
    "http://docs.scipy.org/doc/scipy/reference/generated/scipy.stats.chisquare.html\n"
   ]
  },
  {
   "cell_type": "code",
   "execution_count": 34,
   "metadata": {
    "collapsed": false
   },
   "outputs": [
    {
     "name": "stdout",
     "output_type": "stream",
     "text": [
      "\n"
     ]
    }
   ],
   "source": [
    "import scipy.stats as scps"
   ]
  },
  {
   "cell_type": "code",
   "execution_count": 35,
   "metadata": {
    "collapsed": false
   },
   "outputs": [
    {
     "name": "stdout",
     "output_type": "stream",
     "text": [
      "<class 'pandas.core.frame.DataFrame'>\n",
      "Int64Index: 891 entries, 0 to 890\n",
      "Data columns (total 11 columns):\n",
      "PassengerId    891 non-null int64\n",
      "Survived       891 non-null int64\n",
      "Pclass         891 non-null int64\n",
      "Name           891 non-null object\n",
      "Sex            891 non-null int64\n",
      "Age            714 non-null float64\n",
      "SibSp          891 non-null int64\n",
      "Parch          891 non-null int64\n",
      "Ticket         891 non-null object\n",
      "Fare           891 non-null float64\n",
      "Embarked       889 non-null object\n",
      "dtypes: float64(2), int64(6), object(3)\n",
      "memory usage: 83.5+ KB\n"
     ]
    }
   ],
   "source": [
    "titanic_clean.info()\n",
    "# tells us what numerical values we can apply chisquared test to\n",
    "# the chisq function can't compare floats/ints to strings.\n",
    "\n",
    "# We'll use all except the name, ticket and embarked field.\n",
    "\n",
    "titanic_chisq = titanic_clean.drop(['Embarked','Ticket','Name'], axis = 1)\n"
   ]
  },
  {
   "cell_type": "code",
   "execution_count": 97,
   "metadata": {
    "collapsed": false
   },
   "outputs": [
    {
     "name": "stdout",
     "output_type": "stream",
     "text": [
      "  VariableName  Test Statistic Value       P-Value\n",
      "0  PassengerId         132165.000000  0.000000e+00\n",
      "1     Survived            549.000000  1.000000e+00\n",
      "2       Pclass            269.475936  1.000000e+00\n",
      "3          Sex            314.000000  1.000000e+00\n",
      "4          Age                   NaN           NaN\n",
      "5        SibSp           2069.334764  1.348835e-95\n",
      "6        Parch           1515.376471  3.026192e-35\n",
      "7         Fare          68245.702389  0.000000e+00\n",
      "            SibSp       Parch\n",
      "count  891.000000  891.000000\n",
      "mean     0.523008    0.381594\n",
      "std      1.102743    0.806057\n",
      "min      0.000000    0.000000\n",
      "25%      0.000000    0.000000\n",
      "50%      0.000000    0.000000\n",
      "75%      1.000000    0.000000\n",
      "max      8.000000    6.000000\n"
     ]
    }
   ],
   "source": [
    "cs = scps.chisquare(titanic_chisq)\n",
    "l = [ [titanic_chisq.columns[i], cs[0][i], cs[1][i]] for i in range(0,len(titanic_chisq.columns)) ]\n",
    "\n",
    "# cs returns a chisq array as the 1st position and a pvalue array as the second\n",
    "# list comprehension is messy, but I was having problems with pd.DataFrame.append()\n",
    "    \n",
    "cs_results_df = pd.DataFrame(data = l, columns = [\"VariableName\",\"Test Statistic Value\", \"P-Value\"])\n",
    "print cs_results_df\n",
    "\n",
    "print titanic_clean.describe().loc[:,['SibSp','Parch']]\n",
    "# adapted from Udacity review code, using location for printing certain portions of dataframes\n",
    "# took a while to get this figured out correctly"
   ]
  },
  {
   "cell_type": "markdown",
   "metadata": {},
   "source": [
    "There isn't any real surprises here, nothing really stands out. The p-values for Parch and Sibsp are statistically significant, but thats because the ChiSquare depends on the observed value - minus the expected (the mean). The quantiles indicate so many 0 values, therefore the expected values are always really close to the observed. You know the data is bad for Chisqure when the sd is greater than the 75% percentile values (just a rule I use subjectively)\n",
    "\n",
    "For those pursuing this - I would say try it with sampling, there will be a trade-off between degrees of freedom. Or try using the chisquare(f_obs = 'Survived', f_exp = 'Sex), which takes survival values and compares them to the binary gender values. Before doing this you may need to tweak and investigate."
   ]
  },
  {
   "cell_type": "markdown",
   "metadata": {},
   "source": [
    "## 4. Sadness. How many parents missed the lifeboats? What parents of families didn't make it?"
   ]
  },
  {
   "cell_type": "markdown",
   "metadata": {},
   "source": [
    "At this point I want to know the differences between parents surviving and kids surviving, granted they were a part of the same family.\n",
    "\n",
    "Ideally I'd like to compare them side by side and see if many parents lost their lives, or if there were many large families on board. The measurement of success would be survival rate because a bigger family may have many kids survive and skew the survival rate and a smaller family may skew the parents survival rate.\n",
    "\n",
    "First I have to remind myself of the columns and define famly members."
   ]
  },
  {
   "cell_type": "code",
   "execution_count": 98,
   "metadata": {
    "collapsed": false
   },
   "outputs": [
    {
     "data": {
      "text/plain": [
       "array(['PassengerId', 'Survived', 'Pclass', 'Name', 'Sex', 'Age', 'SibSp',\n",
       "       'Parch', 'Ticket', 'Fare', 'Cabin', 'Embarked'], dtype=object)"
      ]
     },
     "execution_count": 98,
     "metadata": {},
     "output_type": "execute_result"
    }
   ],
   "source": [
    "titanic.columns.values # reminding me of the column names"
   ]
  },
  {
   "cell_type": "markdown",
   "metadata": {},
   "source": [
    "How do we determine a family member?\n",
    "\n",
    "1. Create new column called family, parse the last name\n",
    "2. Parch > 0\n",
    "3. Age > 18, this is an assumption of the youngest age I would expect an adult to have a kid\n",
    "\n",
    "We wouldn't do sibsp > 0, because what about a single parent with a single child? Granted I think this occurence is rare, and we could give a try afterwards, I don't think it is a fitting criteria at this moment."
   ]
  },
  {
   "cell_type": "code",
   "execution_count": 99,
   "metadata": {
    "collapsed": false
   },
   "outputs": [],
   "source": [
    "# 1.\n",
    "# Create function to take last name\n",
    "\n",
    "def family_name(name):\n",
    "    fn = name.split(\",\")[0] # names are last, title..first..middle...\n",
    "    fn = fn.strip()         # remove whitespace\n",
    "    return fn\n",
    "    "
   ]
  },
  {
   "cell_type": "code",
   "execution_count": 100,
   "metadata": {
    "collapsed": false
   },
   "outputs": [],
   "source": [
    "# Call family name and assign it to a new variable 'FamilyName' in titanic_clean\n",
    "\n",
    "titanic_clean['FamilyName'] = titanic_clean['Name'].apply(family_name)"
   ]
  },
  {
   "cell_type": "code",
   "execution_count": 101,
   "metadata": {
    "collapsed": false
   },
   "outputs": [
    {
     "data": {
      "text/plain": [
       "PassengerId                          1\n",
       "Survived                             0\n",
       "Pclass                               3\n",
       "Name           Braund, Mr. Owen Harris\n",
       "Sex                                  1\n",
       "Age                                 22\n",
       "SibSp                                1\n",
       "Parch                                0\n",
       "Ticket                       A/5 21171\n",
       "Fare                              7.25\n",
       "Embarked                             S\n",
       "FamilyName                      Braund\n",
       "Name: 0, dtype: object"
      ]
     },
     "execution_count": 101,
     "metadata": {},
     "output_type": "execute_result"
    }
   ],
   "source": [
    "titanic_clean.loc[0]  # shows a family name of Braun"
   ]
  },
  {
   "cell_type": "code",
   "execution_count": 102,
   "metadata": {
    "collapsed": false
   },
   "outputs": [
    {
     "data": {
      "text/plain": [
       "'\\n..Researching...\\n..Researching...\\n'"
      ]
     },
     "execution_count": 102,
     "metadata": {},
     "output_type": "execute_result"
    }
   ],
   "source": [
    "#run group by statement\n",
    "#titanic_clean.groupby('FamilyName').sum()['Survived'], can't seem to get count and sum working\n",
    "\n",
    "'''\n",
    "..Researching...\n",
    "..Researching...\n",
    "'''\n",
    "# Need to create an aggregation object as discussed briefly in lesson\n",
    "# http://pandas.pydata.org/pandas-docs/stable/generated/pandas.core.groupby.DataFrameGroupBy.agg.html\n",
    "\n",
    "# takes a dictionary of a field as the key, and functions as the values\n",
    "# titanic_clean_families.groupby('FamilyName').agg({'Survived': ['sum','count']})\n",
    "\n",
    "#This could work, if we need it going forward.\n",
    "\n",
    "# I commented every line because triple single quotes prints poorly when\n",
    "#     you convert to pdf."
   ]
  },
  {
   "cell_type": "markdown",
   "metadata": {},
   "source": [
    "**Here we make 3 ASSUMPTIONS, which are important to keep in mind**\n",
    "1. There are no families with the same last name.\n",
    "2. These 891 values accurately reflect the distribution of values for a ~2,200 passenger manifest.\n",
    "3. All family members will be in the same income class.\n",
    "\n",
    "We cannot draw any conclusions, we can just make observations.\n",
    "No \"This is due to that\", more like \"Hey that's kind of cool.\""
   ]
  },
  {
   "cell_type": "code",
   "execution_count": 103,
   "metadata": {
    "collapsed": false
   },
   "outputs": [],
   "source": [
    "titanic_clean_families = titanic_clean[titanic_clean['Parch'] > 0]"
   ]
  },
  {
   "cell_type": "code",
   "execution_count": 104,
   "metadata": {
    "collapsed": false
   },
   "outputs": [
    {
     "data": {
      "text/plain": [
       "\"We'll save the first one and plot it, but feel free to uncomment\\n   save another variable and play around\""
      ]
     },
     "execution_count": 104,
     "metadata": {},
     "output_type": "execute_result"
    }
   ],
   "source": [
    "grouped_family_survival = titanic_clean_families.groupby(['FamilyName']).agg({'Survived': ['sum','count']})\n",
    "\n",
    "# we can see that the sum of Survivors wasn't equal to the count, which mean families were separated. :(\n",
    "\n",
    "# comment out the first line and uncomment this one below to find average family survival rate\n",
    "# titanic_clean_families.groupby(['FamilyName']).mean()['Survived']\n",
    "\n",
    "# then if you really want to: uncomment this line to really see the Wealth Bias\n",
    "# titanic_clean_families.groupby(['FamilyName','Pclass']).mean()['Survived']\n",
    "\n",
    "'''We'll save the first one and plot it, but feel free to uncomment\n",
    "   save another variable and play around'''"
   ]
  },
  {
   "cell_type": "markdown",
   "metadata": {},
   "source": [
    "We want to look at the data holistically, before we use age cuttoffs to determine whether or not children or parents of the same family died."
   ]
  },
  {
   "cell_type": "code",
   "execution_count": 106,
   "metadata": {
    "collapsed": false
   },
   "outputs": [
    {
     "data": {
      "text/plain": [
       "<matplotlib.text.Text at 0xccfccc0>"
      ]
     },
     "execution_count": 106,
     "metadata": {},
     "output_type": "execute_result"
    },
    {
     "data": {
      "image/png": "[encoded data removed]",
      "text/plain": [
       "<matplotlib.figure.Figure at 0xbdc10b8>"
      ]
     },
     "metadata": {},
     "output_type": "display_data"
    }
   ],
   "source": [
    "grouped_family_survival[0:30].plot.bar(legend = True).set_ylabel('Number of Family Members')\n",
    "# this gets tough to read, even with Seaborn, so I subset the dataFrame\n",
    "# remove the subset to see much more data"
   ]
  },
  {
   "cell_type": "markdown",
   "metadata": {},
   "source": [
    "This is a bad graph - even after subsetting, but it tells us family sizes were relatively small, and there are definite inconsistencies in certain families being separated and those not. Small family sizes means it will be difficult to visually show if families were purposefully being split.\n",
    "\n",
    "Take the Carter's: 3 members, 3 survivors.\n",
    "Take the Andersson's: 8 members, 1 survivor.\n",
    "\n",
    "I can't really make anything out of this, but the family dimension is cool. I need to separate data by age to determine if children were more successful than adult family members."
   ]
  },
  {
   "cell_type": "code",
   "execution_count": 107,
   "metadata": {
    "collapsed": true
   },
   "outputs": [],
   "source": [
    "#save datasets for parents and kids to graph and compare\n",
    "titanic_clean_families_parents = titanic_clean_families[titanic_clean_families['Age'] > 18]\n",
    "titanic_clean_families_kids = titanic_clean_families[titanic_clean_families['Age'] <= 18]\n"
   ]
  },
  {
   "cell_type": "code",
   "execution_count": 111,
   "metadata": {
    "collapsed": false
   },
   "outputs": [
    {
     "data": {
      "image/png": "[encoded data removed]",
      "text/plain": [
       "<matplotlib.figure.Figure at 0xd6ba160>"
      ]
     },
     "metadata": {},
     "output_type": "display_data"
    }
   ],
   "source": [
    "\n",
    "plot1 = titanic_clean_families_parents['Survived'].plot.hist(bins = 2, color = 'Orange')\n",
    "plot2 = titanic_clean_families_kids['Survived'].plot.hist(bins = 2, color = 'DarkBlue')\n",
    "plt.xlabel('Survived? 0=No, 1=Yes')\n",
    "plt.ylabel('Number of People')\n",
    "plt.title('Number of Same Family Survivors: Adults vs. Children')\n",
    "plt.axis = ([0,1,0,75]) # http://matplotlib.org/users/pyplot_tutorial.html\n",
    "plt.xticks([0,1])\n",
    "plt.show()\n",
    "\n",
    "# show an overlay to compare\n",
    "# Udacity review recommended using a bar plot, and I could probabl apply the unstack method\n",
    "    # this would require a Panda DataFrame and axes object going forward.\n",
    "    # this can definitely be improved.\n",
    "    \n",
    "# also recommended was 'cut' method, which would create a categorical variable based on ages\n",
    "    # so plotting in a histogram would be easier, rather than creating new DataFrames with age filters.\n",
    "# titanic_clean['Age_categories'] = pd.cut(df['Age'], bins=[0,18,49,90], labels=[\"Child\",\"Adult\",\"Senior\"])"
   ]
  },
  {
   "cell_type": "markdown",
   "metadata": {},
   "source": [
    "Results: Looks like usually most families stayed together. Not exactly what I expected.\n",
    "\n",
    "However these are cloudy results. More \"parents\" survived than kids, which means either my age minimum is too small or that the average age of a family was relatively high (i.e. a mom and dad with a 20 year old kid could've been more common than a mom/dad with two 2-year olds). This would make some adults inaccurately appear as in the children dataFrame.\n",
    "\n",
    "My hypothesis - many more kids would survive than parents, looks either wrong or inconclusive. I would have expected maybe an older kid with very old parents to have been on a life rafe while his parents stayed on board.\n",
    "\n",
    "Let's reset the age limit and replot."
   ]
  },
  {
   "cell_type": "code",
   "execution_count": 112,
   "metadata": {
    "collapsed": true
   },
   "outputs": [],
   "source": [
    "#save datasets for parents and kids to graph and compare\n",
    "titanic_clean_families_parents = titanic_clean_families[titanic_clean_families['Age'] > 22]\n",
    "titanic_clean_families_kids = titanic_clean_families[titanic_clean_families['Age'] <= 22]\n"
   ]
  },
  {
   "cell_type": "code",
   "execution_count": 113,
   "metadata": {
    "collapsed": false
   },
   "outputs": [
    {
     "data": {
      "image/png": "[encoded data removed]",
      "text/plain": [
       "<matplotlib.figure.Figure at 0xdb21ba8>"
      ]
     },
     "metadata": {},
     "output_type": "display_data"
    }
   ],
   "source": [
    "plot1 = titanic_clean_families_parents['Survived'].hist(bins = 2, color = 'Orange')\n",
    "plot2 = titanic_clean_families_kids['Survived'].hist(bins = 2, color = 'DarkBlue')\n",
    "plt.xlabel('Survived? 0=No, 1=Yes')\n",
    "plt.ylabel('Number of People')\n",
    "plt.title('Number of Same Family Survivors: Adults vs. Children')\n",
    "plt.axis = ([0,1,0,75]) # http://matplotlib.org/users/pyplot_tutorial.html\n",
    "plt.xticks([0,1])  # set x-axis major marks\n",
    "plt.show()\n",
    "\n",
    "# show an overlay to compare"
   ]
  },
  {
   "cell_type": "markdown",
   "metadata": {},
   "source": [
    "As I increase the age level I don't know if I'm capturing a 'kid' at 22 or a 'parent' at 21. I could try to split out the current datasets by the Sibsp criteria, but I may weed out single children or single parents, both however being culturally rare at the time."
   ]
  },
  {
   "cell_type": "markdown",
   "metadata": {},
   "source": [
    "# Section 4 - Share your findings\n",
    "\n",
    "1. There is evidence in visualizations, correlation coefficients and empirical data that points towards a wealth bias.\n",
    "\n",
    "    * The colored visualizations both imply a rich bias. Older people were usually weathy and wealthy people seemed to survive more. That goes against the story of elderly self-sacrifice we are used to hearing. Neat. What others' analysis and reports leads me to believe that maybe in the cleaning process, I may have increased the biased towards the wealthy survivors who had their ages populated in the data. \n",
    "    \n",
    "    * The number of poor people on the ship (Lower income class) really struck me as odd, because before now I thought everyone on board was very wealthy.\n",
    "\n",
    "    * Other than that - it's clear many of the 1st class passengers were the survivors, because very few of the 3rd class members and crew members (who would most likely fall in Lower Class category) did not make it.\n",
    "\n",
    "2. Women and children survived more than men, although I recognize information on 891 passengers may deviate from the total ~2,200 manifest. There were fewer children, so while fewer survived, their success rate was still better than adults (women or men). The commitment to saving women is evident highlighted by the comparison between male and female survival rates.\n",
    "\n",
    "3. Family survival rates are cool to look at, but I can't glean anything from them."
   ]
  },
  {
   "cell_type": "markdown",
   "metadata": {},
   "source": [
    "# Section 5 - Review\n",
    "\n",
    "Overall this was very cool to look at, Kaggle data and competitions do live up to their expectations.\n",
    "\n",
    "## Comments:\n",
    "I was disappointed in the sparse dataset, especially when I found there were many more passengers on board than present in the file provided.  Based on the classification data (categorical variables), I think an advantage can be gleamed by applying a machine learning random forest to better classify a survivor. That model essentially uses decision trees based on input criteria to define an output variable (in this case Survival). Could be cool to look into.\n",
    "\n",
    "Conversely I think the lack of continuous variables made applying simple A/B or Hypothesis tests, from a statistical standpoint, quite difficult. Even linear regression would have been skewed to very largely weighted categorical variables. The correlation matrix for startes only midly indicated towards more wealth as a bias for Survival.\n",
    "\n",
    "After my first Udacity review was submitted and the Chisquare test was suggested my thoughts are unchanged. I think the lack of normality of the data (right skewness) from a visual standpoint, as well as the lack of continuous variables, makes finding statistical significance difficult\n",
    "\n",
    "## Positives:\n",
    "The family dimension was my favorite part, really fun to work a little outside the box, even if my skills limited the conclusions from the analysis. \n",
    "\n",
    "Conda stack and jupyter helped plotting and manipulating datasets much easier than my experience in R or in a Python editor.\n",
    "\n",
    "\n",
    "## Improvements:\n",
    "Having come from an R background, using vectors and array objects was quite familiar, but the syntax was a little more difficult than R, especially when it came to manipulating column data. It was difficult using pandas plot objects vs. matplotlib plotting objects and I had to rely on a lot of documentation to get the visuals to work. I know this wasn't covered in the lesson, but there was a steeper learning curve to pandas and numpy than I initially thought. I'd like to also add that .loc and .iloc are something I need to be more adept with in the future, as well as pairing graphs with a dataFrame object summarizing their overall message.\n",
    "\n",
    "Also - if pandas could fix the x-axis bug for scatterplots too that'd be cool."
   ]
  }
 ],
 "metadata": {
  "celltoolbar": "Slideshow",
  "kernelspec": {
   "display_name": "Python 2",
   "language": "python",
   "name": "python2"
  },
  "language_info": {
   "codemirror_mode": {
    "name": "ipython",
    "version": 2
   },
   "file_extension": ".py",
   "mimetype": "text/x-python",
   "name": "python",
   "nbconvert_exporter": "python",
   "pygments_lexer": "ipython2",
   "version": "2.7.13"
  }
 },
 "nbformat": 4,
 "nbformat_minor": 2
}
